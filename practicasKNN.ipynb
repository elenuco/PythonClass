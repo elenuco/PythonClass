{
  "nbformat": 4,
  "nbformat_minor": 0,
  "metadata": {
    "colab": {
      "name": "practicasKNN.ipynb",
      "provenance": [],
      "collapsed_sections": [],
      "include_colab_link": true
    },
    "kernelspec": {
      "name": "python3",
      "display_name": "Python 3"
    }
  },
  "cells": [
    {
      "cell_type": "markdown",
      "metadata": {
        "id": "view-in-github",
        "colab_type": "text"
      },
      "source": [
        "<a href=\"https://colab.research.google.com/github/elenuco/PythonClass/blob/master/practicasKNN.ipynb\" target=\"_parent\"><img src=\"https://colab.research.google.com/assets/colab-badge.svg\" alt=\"Open In Colab\"/></a>"
      ]
    },
    {
      "cell_type": "markdown",
      "metadata": {
        "id": "AZ2lap50ejWl"
      },
      "source": [
        "Los objetivos de esta práctica son:\n",
        "\n",
        "1. Comprender intuitivamente el único parámetro de KNN, **K**\n",
        "2. Sintonizar el parámetro K, graficando la evaluación de clasificadores con distintos valores de K\n",
        "\n",
        "Hecho con ❤ por el Disrupteam_\n",
        "\n",
        "> **Recuerda**: A medida que avencemos, los ejercicios son más complicados. Es parte del aprendizaje. Afortunadamente no estás solo. ¿Tienes problemas o dudas? Solicita una sesión personal en *Bienvenida al curso > Formulario para solicitar mentorías*"
      ]
    },
    {
      "cell_type": "markdown",
      "metadata": {
        "id": "HnFS2ZUbfBzi"
      },
      "source": [
        "\n",
        "\n",
        "---\n",
        "**Iniciemos**\n",
        "\n",
        "**Objetivo 1: Comprender intuitivamente el único parámetro de KNN, K**\n",
        "\n",
        "Para usar los datos, hemos seguido los siguientes pasos:\n",
        "\n",
        "1.  Cargar los datos\n",
        "2.  Separar las características (atributos) de las etiquetas (target)\n",
        "3.  Si es necesario, preparalos (pre procesarlos)\n"
      ]
    },
    {
      "cell_type": "code",
      "metadata": {
        "id": "DQVNrruDejpF"
      },
      "source": [
        "# 1. Cargar los datos\n",
        "from sklearn.datasets import load_breast_cancer\n",
        "BreastCancerDataset = load_breast_cancer() \n",
        "\n",
        "# 2. Separar las características (atributos) de las etiquetas (target)\n",
        "X = BreastCancerDataset.data      # X contiene los atributos\n",
        "y = BreastCancerDataset.target    # y contiene las etiquetas\n",
        "\n",
        "# 3. Si es necesario, preparalos (pre procesarlos)\n",
        "# Para usar KNN es preferible normalizar los datos \n",
        "from sklearn.preprocessing import MinMaxScaler\n",
        "scaler = MinMaxScaler()\n",
        "scaler.fit(X)\n",
        "X = scaler.transform(X)"
      ],
      "execution_count": null,
      "outputs": []
    },
    {
      "cell_type": "markdown",
      "metadata": {
        "id": "Kq26jl4oeiF8"
      },
      "source": [
        "El clasificador basado en KNN se llama *KNeighborsClassifier* en Sklearn.\n",
        "\n",
        "Para usarlo, procedemos como sigue:\n",
        "\n",
        "1. Importar modelo\n",
        "2. Crear modelo con los parámetros seleccionados\n",
        "3. Dividir datos en entrenamiento y evaluación\n",
        "4. Entrenar el modelo con el conjunto de entrenamiento\n",
        "5. Evaluar o usar el modelo con el conjunto de prueba o evaluación\n",
        "6. Calcular la exactitud"
      ]
    },
    {
      "cell_type": "code",
      "metadata": {
        "id": "NV1dsUmPeiXz"
      },
      "source": [
        "from sklearn.neighbors import KNeighborsClassifier\n",
        "clf = KNeighborsClassifier(n_neighbors=3) # Usando 3 vecinos. K=3\n",
        "\n",
        "# Dividir el conjunto de datos en \"entrenamiento\" y prueba. Propiamente dicho, KNN no necesita entrenamiento\n",
        "from sklearn.model_selection import train_test_split\n",
        "X_train, X_test, y_train, y_test = train_test_split(X, y, test_size=0.30, random_state=42)"
      ],
      "execution_count": null,
      "outputs": []
    },
    {
      "cell_type": "markdown",
      "metadata": {
        "id": "mtn0XJKRgEe5"
      },
      "source": [
        "¿Cuánto tiempo tarda el modelo en entrenar y predecir?"
      ]
    },
    {
      "cell_type": "code",
      "metadata": {
        "id": "xeoTwi3tGDTC",
        "colab": {
          "base_uri": "https://localhost:8080/",
          "height": 50
        },
        "outputId": "25bd7431-34c5-4bee-f3b5-ce2221b93544"
      },
      "source": [
        "from time import time\n",
        "\n",
        "t0 = time()\n",
        "clf.fit(X_train, y_train)\n",
        "print(\"Tiempo de entrenamiento: \", time()-t0, \" segundos\")\n",
        "\n",
        "t0 = time()\n",
        "clf.predict([X[58,:]])\n",
        "print(\"Tiempo de predicción: \", time()-t0, \" segundos\")"
      ],
      "execution_count": null,
      "outputs": [
        {
          "output_type": "stream",
          "text": [
            "Tiempo de entrenamiento:  0.006594419479370117  segundos\n",
            "Tiempo de predicción:  0.0028142929077148438  segundos\n"
          ],
          "name": "stdout"
        }
      ]
    },
    {
      "cell_type": "markdown",
      "metadata": {
        "id": "QFXlMxNbgOaN"
      },
      "source": [
        "Evaluar el modelo"
      ]
    },
    {
      "cell_type": "code",
      "metadata": {
        "id": "wjJWtDHkHpw2",
        "colab": {
          "base_uri": "https://localhost:8080/",
          "height": 34
        },
        "outputId": "a738eb85-2990-45e9-e319-2d763d3a22b6"
      },
      "source": [
        "from sklearn.metrics import accuracy_score\n",
        "y_pred = clf.predict(X_test)\n",
        "accuracy_score(y_test, y_pred)"
      ],
      "execution_count": null,
      "outputs": [
        {
          "output_type": "execute_result",
          "data": {
            "text/plain": [
              "0.9707602339181286"
            ]
          },
          "metadata": {
            "tags": []
          },
          "execution_count": 4
        }
      ]
    },
    {
      "cell_type": "markdown",
      "metadata": {
        "id": "X2xtcKSIgRUR"
      },
      "source": [
        "Podemos mejorar la exactitud afectando el límite de decisión que construye el modelo. Para esto solo tenemos un parámetro, K. Ahora, usemos K=10. ¿Mejoró la exactitud?"
      ]
    },
    {
      "cell_type": "code",
      "metadata": {
        "id": "QyZcYzT8Hvwl",
        "colab": {
          "base_uri": "https://localhost:8080/",
          "height": 67
        },
        "outputId": "969c9330-cdf9-4996-ca3b-4f2a226ac84a"
      },
      "source": [
        "clf = KNeighborsClassifier(n_neighbors=10)\n",
        "\n",
        "t0 = time()\n",
        "clf.fit(X_train, y_train)\n",
        "print(\"Tiempo de entrenamiento: \", time()-t0, \" segundos\")\n",
        "\n",
        "t0 = time()\n",
        "clf.predict([X[58,:]])\n",
        "print(\"Tiempo de predicción: \", time()-t0, \" segundos\")\n",
        "\n",
        "y_pred = clf.predict(X_test)\n",
        "accuracy_score(y_test, y_pred)"
      ],
      "execution_count": null,
      "outputs": [
        {
          "output_type": "stream",
          "text": [
            "Tiempo de entrenamiento:  0.0026090145111083984  segundos\n",
            "Tiempo de predicción:  0.0015819072723388672  segundos\n"
          ],
          "name": "stdout"
        },
        {
          "output_type": "execute_result",
          "data": {
            "text/plain": [
              "0.9707602339181286"
            ]
          },
          "metadata": {
            "tags": []
          },
          "execution_count": 5
        }
      ]
    },
    {
      "cell_type": "markdown",
      "metadata": {
        "id": "gP08IGrIIbFU"
      },
      "source": [
        "¿Es más tardada la predicción con más vecinos? ¿Por qué?"
      ]
    },
    {
      "cell_type": "markdown",
      "metadata": {
        "id": "xZH-Hlj5g_oD"
      },
      "source": [
        "\n",
        "\n",
        "---\n",
        "\n",
        "**Objetivo 2: Sintonizar el parámetro K, graficando la evaluación de clasificadores con distintos valores de K**\n",
        "\n",
        "Sintonizar significa ajustar convenientemente los parámetros de un modelo. Todos los paramétros que podemos ajustar de un modelo reciben el nombre de **hiperparámetros** o también **parámetros libres**.\n",
        "\n",
        "* ¿Cómo podemos elegir el mejor valor de K? En otras palabras, ¿cómo podemos sintonizar el hiperparámetro de KNN, K?\n",
        "\n",
        "Una forma es creando varios clasificadores con distintos valores de K. Podemos graficar su exactitud, y elegir el clasificador con el mejor desempeño."
      ]
    },
    {
      "cell_type": "code",
      "metadata": {
        "id": "wurMGBu6Lkxi",
        "colab": {
          "base_uri": "https://localhost:8080/",
          "height": 54
        },
        "outputId": "1e33cd87-a1db-4460-9698-e0be58fc365b"
      },
      "source": [
        "from sklearn.metrics import accuracy_score\n",
        "\n",
        "# Lista para almacenar los resultados de cada clasificador\n",
        "k_accuracy = []\n",
        "# Valores de K para probar\n",
        "k_range = range(1, 31)\n",
        "\n",
        "# K iniciará en 1, y avanzará una unidad hasta llegar a 30\n",
        "for k in k_range:  \n",
        "    # Crear clasificador con el hiperparámetro k\n",
        "    knn = KNeighborsClassifier(n_neighbors=k)\n",
        "    knn.fit(X_train, y_train)\n",
        "    y_pred = knn.predict(X_test)\n",
        "    # Ralizar una evaluación cruzada\n",
        "    accuracy = accuracy_score(y_test,y_pred)\n",
        "    # Guardar el promedio en la lista k_scores\n",
        "    k_accuracy.append(accuracy)\n",
        "\n",
        "# Esta línea está fuera del ciclo for. Imprime los promedios de los clasificadores\n",
        "print(k_accuracy)"
      ],
      "execution_count": null,
      "outputs": [
        {
          "output_type": "stream",
          "text": [
            "[0.9590643274853801, 0.9415204678362573, 0.9707602339181286, 0.9649122807017544, 0.9649122807017544, 0.9649122807017544, 0.9649122807017544, 0.9590643274853801, 0.9649122807017544, 0.9707602339181286, 0.9649122807017544, 0.9707602339181286, 0.9707602339181286, 0.9707602339181286, 0.9590643274853801, 0.9590643274853801, 0.9590643274853801, 0.9590643274853801, 0.9532163742690059, 0.9649122807017544, 0.9590643274853801, 0.9590643274853801, 0.9532163742690059, 0.9590643274853801, 0.9473684210526315, 0.9473684210526315, 0.9473684210526315, 0.9473684210526315, 0.9473684210526315, 0.9473684210526315]\n"
          ],
          "name": "stdout"
        }
      ]
    },
    {
      "cell_type": "markdown",
      "metadata": {
        "id": "58nzgMGVharF"
      },
      "source": [
        "Graficar"
      ]
    },
    {
      "cell_type": "code",
      "metadata": {
        "id": "9pXmq9JTMAfZ",
        "colab": {
          "base_uri": "https://localhost:8080/",
          "height": 279
        },
        "outputId": "04154fbe-74e3-4276-a29c-a90e53b7f316"
      },
      "source": [
        "import matplotlib.pyplot as plt   \n",
        "\n",
        "plt.plot(k_range, k_accuracy)\n",
        "plt.xlabel('Valor de K para KNN')\n",
        "plt.ylabel('Validación cruzada usando accuracy')\n",
        "plt.grid()\n",
        "plt.show()"
      ],
      "execution_count": null,
      "outputs": [
        {
          "output_type": "display_data",
          "data": {
            "image/png": "[encoded data removed]",
            "text/plain": [
              "<Figure size 432x288 with 1 Axes>"
            ]
          },
          "metadata": {
            "tags": []
          }
        }
      ]
    },
    {
      "cell_type": "markdown",
      "metadata": {
        "id": "Se3WizTBSmfh"
      },
      "source": [
        "En el miniproyecto de este laboratorio, usarás más de un modelo para elegir al mejor"
      ]
    },
    {
      "cell_type": "code",
      "metadata": {
        "id": "uSy6MLcVjDzi"
      },
      "source": [
        ""
      ],
      "execution_count": null,
      "outputs": []
    }
  ]
}